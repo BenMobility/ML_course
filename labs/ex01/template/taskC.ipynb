{
 "cells": [
  {
   "cell_type": "code",
   "execution_count": 1,
   "metadata": {},
   "outputs": [],
   "source": [
    "%matplotlib inline\n",
    "import numpy as np\n",
    "import matplotlib.pyplot as plt\n",
    "%load_ext autoreload\n",
    "%autoreload 2"
   ]
  },
  {
   "cell_type": "markdown",
   "metadata": {},
   "source": [
    "Data Generation\n",
    "==="
   ]
  },
  {
   "cell_type": "code",
   "execution_count": 2,
   "metadata": {},
   "outputs": [],
   "source": [
    "from numpy.random import rand, randn"
   ]
  },
  {
   "cell_type": "code",
   "execution_count": 3,
   "metadata": {},
   "outputs": [],
   "source": [
    "n, d, k = 100, 2, 2"
   ]
  },
  {
   "cell_type": "code",
   "execution_count": 4,
   "metadata": {},
   "outputs": [
    {
     "name": "stdout",
     "output_type": "stream",
     "text": [
      "[array([0.69872366, 0.75176984]), array([0.25997411, 0.14504062])]\n",
      "[array([[0.01764816, 0.        ],\n",
      "       [0.        , 0.06360523]]), array([[0.01764816, 0.        ],\n",
      "       [0.        , 0.06360523]])]\n"
     ]
    }
   ],
   "source": [
    "np.random.seed(20)\n",
    "X = rand(n, d)\n",
    "\n",
    "# means = [rand(d)  for _ in range(k)]  # works for any k\n",
    "means = [rand(d) * 0.5 + 0.5 , - rand(d)  * 0.5 + 0.5]  # for better plotting when k = 2\n",
    "\n",
    "S = np.diag(rand(d))\n",
    "\n",
    "sigmas = [S]*k # we'll use the same Sigma for all clusters for better visual results\n",
    "\n",
    "print(means)\n",
    "print(sigmas)"
   ]
  },
  {
   "cell_type": "code",
   "execution_count": 5,
   "metadata": {},
   "outputs": [
    {
     "data": {
      "text/plain": [
       "[array([0.69872366, 0.75176984]), array([0.25997411, 0.14504062])]"
      ]
     },
     "execution_count": 5,
     "metadata": {},
     "output_type": "execute_result"
    }
   ],
   "source": [
    "means"
   ]
  },
  {
   "cell_type": "markdown",
   "metadata": {},
   "source": [
    "Solution\n",
    "==="
   ]
  },
  {
   "cell_type": "code",
   "execution_count": 12,
   "metadata": {},
   "outputs": [
    {
     "data": {
      "text/plain": [
       "(2, 100)"
      ]
     },
     "execution_count": 12,
     "metadata": {},
     "output_type": "execute_result"
    }
   ],
   "source": [
    "xn_u= X-means[0]\n",
    "xn_u.shape\n",
    "xn_u.T\n",
    "xn_u.T.shape"
   ]
  },
  {
   "cell_type": "code",
   "execution_count": 22,
   "metadata": {
    "scrolled": true
   },
   "outputs": [],
   "source": [
    "def compute_log_p(X, mean, sigma):\n",
    "    ''' \n",
    "    compute_log_p\n",
    "    Takes data from two given distributions and compute the probabilities distribution between models k.\n",
    "    \n",
    "    INPUTS : \n",
    "    X : n x d matrix which represents the two given distributions\n",
    "    mean : 1 x d, average of each distribution\n",
    "    sigma : d x d, matrix for the covariance\n",
    "    \n",
    "    OUTPUTS : \n",
    "    log_ps : n x 1, gives the probability of a given model for each n.\n",
    "    ''' \n",
    "    xn_u = X-mean\n",
    "    log_p = -(0.5*xn_u.dot(np.linalg.inv(sigma).dot(xn_u.T)))-np.log((2*np.pi**(X.shape[1]/2))*np.linalg.det(sigma)**(0.5))\n",
    "    \n",
    "    return log_p\n",
    "   "
   ]
  },
  {
   "cell_type": "code",
   "execution_count": 31,
   "metadata": {},
   "outputs": [
    {
     "data": {
      "text/plain": [
       "(100, 100)"
      ]
     },
     "execution_count": 31,
     "metadata": {},
     "output_type": "execute_result"
    }
   ],
   "source": [
    "compute_log_p(X,means[0],sigmas[0]).shape"
   ]
  },
  {
   "cell_type": "code",
   "execution_count": 32,
   "metadata": {},
   "outputs": [
    {
     "data": {
      "text/plain": [
       "array([[-1.10592860e-01,  1.45943888e-01],\n",
       "       [ 1.92807069e-01,  6.40676374e-02],\n",
       "       [-6.62834075e-01, -6.00122581e-02],\n",
       "       [-3.20042719e-01, -2.33258894e-01],\n",
       "       [-4.07721951e-02, -5.57919622e-01],\n",
       "       [-4.26407259e-01, -3.31639063e-02],\n",
       "       [ 8.42799488e-02,  9.85577999e-02],\n",
       "       [ 7.65212333e-02, -7.15105533e-01],\n",
       "       [-5.82029926e-01, -4.89140410e-04],\n",
       "       [-4.59505444e-01, -4.96963826e-01],\n",
       "       [ 1.58901871e-01,  1.98009186e-01],\n",
       "       [-1.37036803e-01, -5.72989320e-01],\n",
       "       [ 7.15282725e-02, -2.59388800e-01],\n",
       "       [-6.74705951e-02,  8.77280830e-02],\n",
       "       [-2.37684264e-01, -2.53829767e-01],\n",
       "       [-1.93125431e-02, -1.00983926e-01],\n",
       "       [-4.29928422e-01, -6.84445173e-01],\n",
       "       [ 7.27214777e-02, -2.70785708e-01],\n",
       "       [-3.69517253e-01, -2.41128784e-01],\n",
       "       [-4.35094832e-01, -4.41258290e-01],\n",
       "       [-7.18702229e-02, -1.94320029e-01],\n",
       "       [-3.80144101e-01, -3.56926619e-01],\n",
       "       [-4.40749075e-01, -1.69528717e-01],\n",
       "       [-5.37094950e-01, -1.53636020e-01],\n",
       "       [ 1.27099917e-01, -5.95378121e-01],\n",
       "       [ 3.55768587e-02, -3.43126408e-01],\n",
       "       [ 7.99642437e-02,  5.22007277e-02],\n",
       "       [ 8.73477829e-02, -1.59482821e-01],\n",
       "       [-3.42344578e-02, -1.05202553e-01],\n",
       "       [-2.73087182e-01, -2.38201506e-01],\n",
       "       [-1.97465817e-01, -7.14686029e-01],\n",
       "       [ 9.39243454e-03, -1.31339240e-01],\n",
       "       [ 7.90848740e-02, -2.92360374e-01],\n",
       "       [-3.18918106e-01, -4.59877636e-01],\n",
       "       [-1.41494798e-01, -6.67606238e-01],\n",
       "       [-6.74419915e-02,  1.92800648e-01],\n",
       "       [ 1.92513874e-01,  1.26812740e-01],\n",
       "       [-3.53972034e-01, -4.86693079e-02],\n",
       "       [-1.71386056e-01, -9.24528843e-02],\n",
       "       [-4.30433027e-01, -1.44002760e-01],\n",
       "       [-6.50566291e-01, -5.62692005e-02],\n",
       "       [-3.99451783e-01, -5.86134285e-01],\n",
       "       [-3.66471721e-01, -5.86332094e-01],\n",
       "       [ 2.15914320e-01, -4.67744834e-01],\n",
       "       [-5.91116396e-01, -6.34768070e-01],\n",
       "       [ 5.67999382e-02,  8.71246183e-02],\n",
       "       [-6.63186634e-01, -6.30326070e-01],\n",
       "       [ 1.92284394e-01, -2.36677606e-01],\n",
       "       [ 2.25695351e-01, -1.70527210e-01],\n",
       "       [ 7.45327267e-02, -3.29092946e-01],\n",
       "       [ 1.26741091e-01, -3.66365278e-01],\n",
       "       [-3.44377698e-01, -3.23691317e-01],\n",
       "       [-3.03658479e-01,  9.28598743e-02],\n",
       "       [-3.24899851e-01, -3.80188864e-01],\n",
       "       [-2.82780703e-01, -3.27225364e-01],\n",
       "       [-3.59188178e-02, -5.61993914e-01],\n",
       "       [ 2.37549905e-02, -4.98108867e-01],\n",
       "       [ 2.63950478e-01, -6.19108594e-01],\n",
       "       [ 1.08073037e-01, -3.96774390e-01],\n",
       "       [-6.14085356e-01, -2.06010642e-02],\n",
       "       [ 2.97877194e-01, -7.42177069e-01],\n",
       "       [-4.61150273e-01, -2.89845058e-01],\n",
       "       [ 6.65351773e-02,  2.20733474e-01],\n",
       "       [ 2.17223337e-01, -1.64323059e-01],\n",
       "       [-2.54348333e-01, -3.10693900e-01],\n",
       "       [-4.73228924e-03, -2.51288662e-02],\n",
       "       [ 3.60090968e-02, -3.67549310e-01],\n",
       "       [ 2.46672251e-01,  4.18994249e-02],\n",
       "       [-4.40908995e-01, -1.15282898e-01],\n",
       "       [ 1.46416863e-01, -7.43994691e-01],\n",
       "       [-6.21687386e-01,  2.37655299e-01],\n",
       "       [ 9.22413516e-02, -1.48824596e-02],\n",
       "       [ 1.67666185e-01, -5.21015718e-01],\n",
       "       [-5.93221411e-01, -8.83457047e-03],\n",
       "       [-2.23567317e-01,  7.88299442e-03],\n",
       "       [-2.12730528e-01, -4.75836049e-01],\n",
       "       [-3.16940293e-01, -7.55684414e-02],\n",
       "       [ 3.77473700e-02,  2.18834855e-01],\n",
       "       [-1.73609418e-02, -2.61317841e-01],\n",
       "       [-5.70320419e-01, -2.47938908e-01],\n",
       "       [-2.89054557e-01, -4.96172464e-01],\n",
       "       [-8.06576344e-02,  1.43244609e-01],\n",
       "       [-3.12212697e-02, -1.75916484e-01],\n",
       "       [-5.00031785e-02,  2.09306926e-01],\n",
       "       [ 1.65645587e-01,  3.09589368e-02],\n",
       "       [-3.87620340e-01, -4.79855979e-01],\n",
       "       [ 2.58656882e-01, -2.35327160e-01],\n",
       "       [-2.81298134e-01, -1.12906771e-01],\n",
       "       [-9.19629964e-03,  1.67166550e-02],\n",
       "       [-2.55869073e-01,  1.99544650e-01],\n",
       "       [-1.65932376e-01, -4.38208461e-01],\n",
       "       [-4.95201597e-01,  2.33577779e-01],\n",
       "       [-2.30884449e-01, -4.88406194e-02],\n",
       "       [-5.44119573e-01, -2.07704534e-02],\n",
       "       [-3.81376170e-02, -1.53411629e-02],\n",
       "       [ 2.07965630e-01,  4.15464738e-02],\n",
       "       [-3.03753929e-01,  1.70385889e-01],\n",
       "       [-6.57778344e-01,  4.25722692e-02],\n",
       "       [ 1.39247989e-01, -2.09843147e-01],\n",
       "       [-6.83514607e-02,  2.20714079e-01]])"
      ]
     },
     "execution_count": 32,
     "metadata": {},
     "output_type": "execute_result"
    }
   ],
   "source": [
    "xn_u"
   ]
  },
  {
   "cell_type": "code",
   "execution_count": 29,
   "metadata": {},
   "outputs": [
    {
     "data": {
      "text/plain": [
       "[array([[  1.04426134,   2.08882844,  -0.44977284, ...,  -0.55162333,\n",
       "           2.23526121,   1.09083391],\n",
       "        [  2.08882844,   0.47273425,   5.20918702, ...,   5.12990481,\n",
       "           0.90325315,   1.82042683],\n",
       "        [ -0.44977284,   5.20918702, -10.91754112, ..., -10.77420408,\n",
       "           4.07417535,   0.37875696],\n",
       "        ...,\n",
       "        [ -0.55162333,   5.12990481, -10.77420408, ..., -10.71431698,\n",
       "           4.22345074,   0.21056009],\n",
       "        [  2.23526121,   0.90325315,   4.07417535, ...,   4.22345074,\n",
       "           0.66271354,   2.19195311],\n",
       "        [  1.09083391,   1.82042683,   0.37875696, ...,   0.21056009,\n",
       "           2.19195311,   1.04290595]]),\n",
       " array([[ -5.94610333,  -8.28242913,   0.40678139, ...,  -0.24719017,\n",
       "          -6.16381721,  -6.78122659],\n",
       "        [ -8.28242913, -13.27941622,   2.68484836, ...,   2.05344507,\n",
       "         -10.87671817,  -9.43252657],\n",
       "        [  0.40678139,   2.68484836,  -2.21406798, ...,  -2.62285201,\n",
       "           3.52201584,   0.35361537],\n",
       "        ...,\n",
       "        [ -0.24719017,   2.05344507,  -2.62285201, ...,  -3.11508599,\n",
       "           3.11917015,  -0.36670258],\n",
       "        [ -6.16381721, -10.87671817,   3.52201584, ...,   3.11917015,\n",
       "          -9.14507863,  -7.08882114],\n",
       "        [ -6.78122659,  -9.43252657,   0.35361537, ...,  -0.36670258,\n",
       "          -7.08882114,  -7.71085038]])]"
      ]
     },
     "execution_count": 29,
     "metadata": {},
     "output_type": "execute_result"
    }
   ],
   "source": [
    "log_ps = [compute_log_p(X, m, s) for m, s in zip(means, sigmas)]  # exercise: try to do this without looping\n",
    "log_ps"
   ]
  },
  {
   "cell_type": "code",
   "execution_count": null,
   "metadata": {},
   "outputs": [],
   "source": [
    "assignments = np.argmax(log_ps, axis=0)\n",
    "print(assignments)"
   ]
  },
  {
   "cell_type": "code",
   "execution_count": null,
   "metadata": {
    "scrolled": true
   },
   "outputs": [],
   "source": [
    "colors = np.array(['red', 'green'])[assignments]\n",
    "plt.scatter(X[:, 0], X[:, 1], c=colors, s=100)\n",
    "plt.scatter(np.array(means)[:, 0], np.array(means)[:, 1], marker='*', s=200)\n",
    "plt.show()"
   ]
  }
 ],
 "metadata": {
  "kernelspec": {
   "display_name": "Python 3",
   "language": "python",
   "name": "python3"
  },
  "language_info": {
   "codemirror_mode": {
    "name": "ipython",
    "version": 3
   },
   "file_extension": ".py",
   "mimetype": "text/x-python",
   "name": "python",
   "nbconvert_exporter": "python",
   "pygments_lexer": "ipython3",
   "version": "3.6.5"
  }
 },
 "nbformat": 4,
 "nbformat_minor": 1
}
